{
 "cells": [
  {
   "cell_type": "code",
   "execution_count": 1,
   "id": "be49fe9a-2508-4ce2-a477-5a994ca8c9cb",
   "metadata": {},
   "outputs": [],
   "source": [
    "#l even num\n",
    "numbers=(2,21)"
   ]
  },
  {
   "cell_type": "code",
   "execution_count": 2,
   "id": "94c073d0-d42b-407d-bc94-e98eae8cd3a8",
   "metadata": {},
   "outputs": [
    {
     "name": "stdout",
     "output_type": "stream",
     "text": [
      "2\n",
      "4\n",
      "6\n",
      "8\n",
      "10\n",
      "12\n",
      "14\n",
      "16\n",
      "18\n",
      "20\n"
     ]
    }
   ],
   "source": [
    "for num in range(2,21,2):\n",
    "    print(num)"
   ]
  },
  {
   "cell_type": "code",
   "execution_count": 3,
   "id": "8eb3e463-9dce-4709-a5bc-24285131214c",
   "metadata": {},
   "outputs": [],
   "source": [
    "#names in uppercase\n",
    "names=('sadia','ayesha','ishmal','hiba')"
   ]
  },
  {
   "cell_type": "code",
   "execution_count": 4,
   "id": "63d4ecfa-abf2-44f9-ae7c-6b8bcfda3634",
   "metadata": {},
   "outputs": [
    {
     "name": "stdout",
     "output_type": "stream",
     "text": [
      "SADIA\n",
      "AYESHA\n",
      "ISHMAL\n",
      "HIBA\n"
     ]
    }
   ],
   "source": [
    "for name in names:\n",
    "    print(name.upper())"
   ]
  },
  {
   "cell_type": "code",
   "execution_count": 5,
   "id": "f132d2a6-f22e-491b-87d6-50328e110d33",
   "metadata": {},
   "outputs": [
    {
     "name": "stdout",
     "output_type": "stream",
     "text": [
      "10\n",
      "9\n",
      "8\n",
      "7\n",
      "6\n",
      "5\n",
      "4\n",
      "3\n",
      "2\n",
      "1\n"
     ]
    }
   ],
   "source": [
    "#reverse num order\n",
    "for num in range(10,0,-1):\n",
    "    print(num)"
   ]
  },
  {
   "cell_type": "code",
   "execution_count": null,
   "id": "2974c388-9021-4441-b887-247248ff0546",
   "metadata": {},
   "outputs": [
    {
     "name": "stdout",
     "output_type": "stream",
     "text": [
      "3\n",
      "6\n",
      "9\n",
      "12\n",
      "15\n",
      "18\n",
      "21\n",
      "24\n",
      "27\n",
      "30\n"
     ]
    }
   ],
   "source": [
    "#numbers divided by 3\n",
    "numbers=(2,3,4,5,6,7,8,9,12,13,15,16,18,19,21,24,25,27,29,30)\n",
    "for num in numbers:\n",
    "    if num % 3 == 0:\n",
    "     print(num)"
   ]
  },
  {
   "cell_type": "code",
   "execution_count": 7,
   "id": "2365b2f2-87d6-495a-b2f8-43baebb605d5",
   "metadata": {},
   "outputs": [
    {
     "name": "stdout",
     "output_type": "stream",
     "text": [
      "1\n",
      "4\n",
      "9\n",
      "16\n",
      "25\n",
      "36\n",
      "49\n",
      "64\n",
      "81\n",
      "100\n"
     ]
    }
   ],
   "source": [
    "#square of 1 to 10\n",
    "for e in range(1, 11):\n",
    "    print(e**2)"
   ]
  },
  {
   "cell_type": "code",
   "execution_count": 8,
   "id": "a9a0fce2",
   "metadata": {},
   "outputs": [
    {
     "name": "stdout",
     "output_type": "stream",
     "text": [
      "32.0\n",
      "50.0\n",
      "68.0\n",
      "86.0\n",
      "104.0\n"
     ]
    }
   ],
   "source": [
    "#temperature in fahrenhite\n",
    "celsius = [0, 10, 20, 30, 40] \n",
    "fahrenheit = []\n",
    "\n",
    "for  temperature in celsius:\n",
    "    converted_temperature=(temperature* 9/5) + 32\n",
    "    print(converted_temperature)"
   ]
  },
  {
   "cell_type": "code",
   "execution_count": 9,
   "id": "bd354bfb",
   "metadata": {},
   "outputs": [
    {
     "name": "stdout",
     "output_type": "stream",
     "text": [
      "5 * 1 = 5\n",
      "5 * 2 = 10\n",
      "5 * 3 = 15\n",
      "5 * 4 = 20\n",
      "5 * 5 = 25\n",
      "5 * 6 = 30\n",
      "5 * 7 = 35\n",
      "5 * 8 = 40\n",
      "5 * 9 = 45\n",
      "5 * 10 = 50\n"
     ]
    }
   ],
   "source": [
    "#table of 5\n",
    "for i in range(1, 11):\n",
    "    print(f\"5 * {i} = {5 * i}\")"
   ]
  },
  {
   "cell_type": "code",
   "execution_count": 10,
   "id": "16b0f09e",
   "metadata": {},
   "outputs": [
    {
     "name": "stdout",
     "output_type": "stream",
     "text": [
      "The sum of all numbers in the list is: 15\n"
     ]
    }
   ],
   "source": [
    "# Example list of numbers\n",
    "numbers = [1, 2, 3, 4, 5]  \n",
    "total_sum = 0\n",
    "\n",
    "for num in numbers:\n",
    "    total_sum += num\n",
    "\n",
    "print(\"The sum of all numbers in the list is:\", total_sum)\n"
   ]
  },
  {
   "cell_type": "code",
   "execution_count": 11,
   "id": "0e55e913",
   "metadata": {},
   "outputs": [
    {
     "name": "stdout",
     "output_type": "stream",
     "text": [
      "H\n",
      "e\n",
      "l\n",
      "l\n",
      "o\n",
      ",\n",
      " \n",
      "W\n",
      "o\n",
      "r\n",
      "l\n",
      "d\n",
      "!\n"
     ]
    }
   ],
   "source": [
    "#separate character\n",
    "text = \"Hello, World!\"\n",
    "\n",
    "for char in text:\n",
    "    print(char)"
   ]
  },
  {
   "cell_type": "code",
   "execution_count": 12,
   "id": "37c6149a",
   "metadata": {},
   "outputs": [
    {
     "name": "stdout",
     "output_type": "stream",
     "text": [
      "banana\n",
      "strawberry\n",
      "orange\n"
     ]
    }
   ],
   "source": [
    "#words with more than 5 characters\n",
    "words = [\"apple\", \"banana\", \"grape\", \"strawberry\", \"kiwi\", \"orange\"]\n",
    "\n",
    "for word in words:\n",
    "    if len(word) > 5:\n",
    "        print(word)"
   ]
  },
  {
   "cell_type": "code",
   "execution_count": null,
   "id": "449afd1c",
   "metadata": {},
   "outputs": [],
   "source": []
  }
 ],
 "metadata": {
  "kernelspec": {
   "display_name": "Python 3",
   "language": "python",
   "name": "python3"
  },
  "language_info": {
   "codemirror_mode": {
    "name": "ipython",
    "version": 3
   },
   "file_extension": ".py",
   "mimetype": "text/x-python",
   "name": "python",
   "nbconvert_exporter": "python",
   "pygments_lexer": "ipython3",
   "version": "3.12.3"
  }
 },
 "nbformat": 4,
 "nbformat_minor": 5
}
